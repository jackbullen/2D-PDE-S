{
 "cells": [
  {
   "cell_type": "markdown",
   "metadata": {},
   "source": [
    "# Laplace Equation\n",
    "\n",
    "Laplace equation is a second order partial differential equation (PDE)\n",
    "\n",
    "$$ \\Delta u = u_{xx} + u_{yy} = 0 $$\n",
    "\n",
    "Since we are interested in solving the equation numerically we should find an approximation for the second order derivatives on a discrete domain. We can use the Polynomial expansion formula to find the approximation. \n",
    "\n",
    "Before doing this I will briefly mention something that you already know, which is that $u_x$ denotes a single partial derivate of $u$ with respect to $x$. I explicitly mention this because immediately after deriving the discretization we will use subscripts to denote the position of the point in the domain. For example $u_{j,k}$ will denote the value of $u$ at the point $(j,k)$ in the domain.\n",
    "\n",
    "Recall the formula\n",
    "\n",
    "$$ f(x+\\Delta x) = f(x) + f'(x) \\Delta x + \\frac{f''(x)}{2!} \\Delta x + ... $$\n",
    "\n",
    "Applying this to $u(x,y)$ we get\n",
    "\n",
    "$$ u(x+\\Delta x, y) = u(x, y) + u_x(x, y) \\Delta x + \\frac{u_{xx}(x, y)}{2!}(\\Delta x)^2 + ... $$\n",
    "\n",
    "Similarly with a negative $\\Delta x$,\n",
    "\n",
    "$$ u(x-\\Delta x, y) = u(x, y) - u_x(x, y) \\Delta x + \\frac{u_{xx}(x, y)}{2!}(\\Delta x)^2 - ... $$\n",
    "\n",
    "Now making a quadratic approximation and truncating the higher order terms.\n",
    "\n",
    "$$ u(x+\\Delta x, y) \\approx u(x, y) + u_x(x, y) \\Delta x + \\frac{u_{xx}(x, y)}{2!}(\\Delta x)^2 $$\n",
    "\n",
    "$$ u(x-\\Delta x, y) \\approx u(x, y) - u_x(x, y) \\Delta x + \\frac{u_{xx}(x, y)}{2!}(\\Delta x)^2 $$\n",
    "\n",
    "**Q: How can we solve for $u_{xx}(x)$?**\n",
    "\n",
    "$$ u(x+\\Delta x, y) + u(x-\\Delta x, y) = 2u(x, y) + u_{xx}(x, y) (\\Delta x)^2 $$\n",
    "\n",
    "$$ u_{xx}(x, y) = \\frac{u(x-\\Delta x)- 2u(x, y) + u(x+\\Delta x, y)}{(\\Delta x)^2} $$\n",
    "\n",
    "Doing the same for $y$ direction we get\n",
    "\n",
    "$$\n",
    "u_{yy}(x,y) = \\frac{u(x,y-\\Delta y)- 2u(x,y) + u(x,y+\\Delta y)}{(\\Delta y)^2} \n",
    "$$\n",
    "\n",
    "Therefore the Laplace equation becomes\n",
    "\n",
    "$$\n",
    "\\begin{align*}\n",
    "&\\frac{u(x-\\Delta x,y) - 2u(x,y) + u(x+\\Delta x,y)}{(\\Delta y)^2} \\\\&+ \\frac{u(x,y-\\Delta y)- 2u(x,y) + u(x,y+\\Delta y)}{(\\Delta y)^2} = 0 \n",
    "\\end{align*}\n",
    "$$\n",
    "\n",
    "Since we are making a grid we get $\\Delta x = \\Delta y = h$ and the equation becomes\n",
    "\n",
    "$$\n",
    "\\begin{align*}\n",
    "&\\frac{u_{j-1,k} - 2u_{j,k} + u_{j+1,k}}{h^2} \\\\&+ \\frac{u_{j,k-1}- 2u_{j,k} + u_{j,k+1}}{h^2} = 0\n",
    "\\end{align*}\n",
    "$$\n",
    "\n",
    "Multiplying by $h^2$ and rearranging we get\n",
    "\n",
    "$$\n",
    "u_{j,k} = \\frac{1}{4} (u_{j+1, k} + u_{j-1, k} + u_{j,k+1} + u_{j,k-1})\n",
    "$$\n",
    "\n",
    "We turn this into an **iterative method** that update value at each point in domain using values around it.\n",
    "\n",
    "$$ u_{j,k}^{n+1} = \\frac{1}{4} (u_{j+1, k}^n + u_{j-1, k}^n + u_{j,k+1}^n + u_{j,k-1}^n) $$\n",
    "\n",
    "where $u_{j,k}^{n+1}$ is value of function $u$ at point $(j,k)$ in discretized domain at $n+1$ iteration.\n",
    "\n",
    "We can also use the Gauss Seidel method which uses the updated values of $u$ in the same iteration.\n",
    "\n",
    "$$ u_{j,k}^{n+1} = \\frac{1}{4} (u_{j+1, k}^n + u_{j-1, k}^{n+1} + u_{j,k+1}^n + u_{j,k-1}^{n+1}) $$"
   ]
  },
  {
   "cell_type": "code",
   "execution_count": 1,
   "metadata": {},
   "outputs": [],
   "source": [
    "import numpy as np\n",
    "import matplotlib.pyplot as plt\n",
    "from matplotlib.ticker import ScalarFormatter"
   ]
  },
  {
   "cell_type": "code",
   "execution_count": 2,
   "metadata": {},
   "outputs": [],
   "source": [
    "def finite_difference(U, dx):\n",
    "    ''' Discretize the laplace equation using the Finite Difference Method '''\n",
    "    Nx, Ny = U.shape\n",
    "    U_new = U.copy()\n",
    "\n",
    "    for i in range(1, Nx-1):\n",
    "        for j in range(1, Ny-1):\n",
    "            U_new[i, j] = (U[i+1, j] + U[i-1, j] + U[i, j+1] + U[i, j-1]) / 4\n",
    "    return U_new"
   ]
  },
  {
   "cell_type": "code",
   "execution_count": 3,
   "metadata": {},
   "outputs": [],
   "source": [
    "N = 50\n",
    "dx = 1.0 / (N - 1)\n",
    "\n",
    "value = 1.0\n",
    "\n",
    "max_iter=3000\n",
    "tol=1e-05\n",
    "\n",
    "x = np.linspace(0, 1, N)\n",
    "y = np.linspace(0, 1, N)\n",
    "X, Y = np.meshgrid(x, y)\n",
    "\n",
    "U = np.zeros((N, N))\n",
    "\n",
    "U[0, :] = value\n",
    "U[-1, :] = value\n",
    "U[:, 0] = value\n",
    "U[:, -1] = value"
   ]
  },
  {
   "cell_type": "code",
   "execution_count": 4,
   "metadata": {},
   "outputs": [
    {
     "name": "stdout",
     "output_type": "stream",
     "text": [
      "Converged at iteration 2824\n"
     ]
    }
   ],
   "source": [
    "for i in range(max_iter):\n",
    "        U_new = finite_difference(U, dx)\n",
    "        if np.max(np.abs(U - U_new)) < tol:\n",
    "            print('Converged at iteration', i)\n",
    "            break\n",
    "        U = U_new"
   ]
  },
  {
   "cell_type": "code",
   "execution_count": 5,
   "metadata": {},
   "outputs": [
    {
     "data": {
      "image/png": "[encoded data removed]",
      "text/plain": [
       "<Figure size 640x480 with 2 Axes>"
      ]
     },
     "metadata": {},
     "output_type": "display_data"
    }
   ],
   "source": [
    "contour = plt.pcolormesh(X, Y, U, cmap='jet')\n",
    "cbar = plt.colorbar(contour)\n",
    "formatter = ScalarFormatter(useMathText=False, useOffset=False)\n",
    "formatter.set_scientific(False)\n",
    "cbar.ax.yaxis.set_major_formatter(formatter)\n",
    "plt.show()"
   ]
  },
  {
   "cell_type": "markdown",
   "metadata": {},
   "source": [
    "The plot is a bit misleading. Given the fixed boundary condition the solution is the constant value 1 everywhere."
   ]
  }
 ],
 "metadata": {
  "kernelspec": {
   "display_name": "Python 3",
   "language": "python",
   "name": "python3"
  },
  "language_info": {
   "codemirror_mode": {
    "name": "ipython",
    "version": 3
   },
   "file_extension": ".py",
   "mimetype": "text/x-python",
   "name": "python",
   "nbconvert_exporter": "python",
   "pygments_lexer": "ipython3",
   "version": "3.11.4"
  },
  "orig_nbformat": 4
 },
 "nbformat": 4,
 "nbformat_minor": 2
}
